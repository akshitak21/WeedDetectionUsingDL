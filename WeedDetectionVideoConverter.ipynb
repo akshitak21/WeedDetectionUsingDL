{
  "nbformat": 4,
  "nbformat_minor": 0,
  "metadata": {
    "colab": {
      "provenance": []
    },
    "kernelspec": {
      "name": "python3",
      "display_name": "Python 3"
    },
    "language_info": {
      "name": "python"
    }
  },
  "cells": [
    {
      "cell_type": "code",
      "source": [
        "# Importing libraries\n",
        "import os\n",
        "import cv2\n",
        "from PIL import Image\n",
        "\n",
        "# Set path to the Google Drive folder with images\n",
        "path = \"/content/sample_data/Weeds2\"\n",
        "os.chdir(path)\n",
        "\n",
        "mean_height = 0\n",
        "mean_width = 0\n",
        "\n",
        "# Collect images with proper extensions\n",
        "valid_exts = (\".jpg\", \".jpeg\", \".png\", \".JPG\", \".JPEG\", \".PNG\")\n",
        "images = [file for file in os.listdir(path) if file.endswith(valid_exts)]\n",
        "\n",
        "num_of_images = len(images)\n",
        "print(\"Number of Images:\", num_of_images)\n",
        "\n",
        "if num_of_images == 0:\n",
        "    raise ValueError(f\"⚠️ No images found in folder: {path}\")\n",
        "\n",
        "# Calculating mean width and height\n",
        "for file in images:\n",
        "    im = Image.open(os.path.join(path, file))\n",
        "    width, height = im.size\n",
        "    mean_width += width\n",
        "    mean_height += height\n",
        "\n",
        "mean_width = int(mean_width / num_of_images)\n",
        "mean_height = int(mean_height / num_of_images)\n",
        "\n",
        "# Resizing all images\n",
        "for file in images:\n",
        "    im = Image.open(os.path.join(path, file))\n",
        "    im_resized = im.resize((mean_width, mean_height), Image.LANCZOS)\n",
        "    im_resized.save(file, \"JPEG\", quality=95)\n",
        "    print(f\"{file} resized\")\n",
        "\n",
        "# Function to generate video\n",
        "def generate_video():\n",
        "    video_name = \"mygeneratedvideo.avi\"\n",
        "\n",
        "    # Sort images for proper sequence\n",
        "    images_sorted = sorted(\n",
        "        [img for img in os.listdir(path) if img.endswith(valid_exts)]\n",
        "    )\n",
        "\n",
        "    print(\"Images:\", images_sorted)\n",
        "\n",
        "    if len(images_sorted) == 0:\n",
        "        print(\"⚠️ No images found, cannot generate video.\")\n",
        "        return\n",
        "\n",
        "    # Get frame size from first image\n",
        "    frame = cv2.imread(os.path.join(path, images_sorted[0]))\n",
        "    height, width, layers = frame.shape\n",
        "\n",
        "    # Video writer.\n",
        "    video = cv2.VideoWriter(video_name, cv2.VideoWriter_fourcc(*\"DIVX\"), 10, (width, height))\n",
        "\n",
        "    # Append frames\n",
        "    for image in images_sorted:\n",
        "        img = cv2.imread(os.path.join(path, image))\n",
        "        if img is not None:\n",
        "            video.write(img)\n",
        "\n",
        "    video.release()\n",
        "    cv2.destroyAllWindows()\n",
        "    print(\"✅ Video generated successfully:\", video_name)\n",
        "\n",
        "# Run function\n",
        "generate_video()\n"
      ],
      "metadata": {
        "id": "7jIeGRYsCvqx"
      },
      "execution_count": null,
      "outputs": []
    },
    {
      "cell_type": "code",
      "source": [
        "from google.colab import files\n",
        "\n",
        "# Download the video\n",
        "files.download(\"mygeneratedvideo.avi\")"
      ],
      "metadata": {
        "colab": {
          "base_uri": "https://localhost:8080/",
          "height": 17
        },
        "id": "9aRYRTCHapYr",
        "outputId": "c4af958d-845c-486e-c0a5-5c5dabd5e993"
      },
      "execution_count": null,
      "outputs": [
        {
          "output_type": "display_data",
          "data": {
            "text/plain": [
              "<IPython.core.display.Javascript object>"
            ],
            "application/javascript": [
              "\n",
              "    async function download(id, filename, size) {\n",
              "      if (!google.colab.kernel.accessAllowed) {\n",
              "        return;\n",
              "      }\n",
              "      const div = document.createElement('div');\n",
              "      const label = document.createElement('label');\n",
              "      label.textContent = `Downloading \"${filename}\": `;\n",
              "      div.appendChild(label);\n",
              "      const progress = document.createElement('progress');\n",
              "      progress.max = size;\n",
              "      div.appendChild(progress);\n",
              "      document.body.appendChild(div);\n",
              "\n",
              "      const buffers = [];\n",
              "      let downloaded = 0;\n",
              "\n",
              "      const channel = await google.colab.kernel.comms.open(id);\n",
              "      // Send a message to notify the kernel that we're ready.\n",
              "      channel.send({})\n",
              "\n",
              "      for await (const message of channel.messages) {\n",
              "        // Send a message to notify the kernel that we're ready.\n",
              "        channel.send({})\n",
              "        if (message.buffers) {\n",
              "          for (const buffer of message.buffers) {\n",
              "            buffers.push(buffer);\n",
              "            downloaded += buffer.byteLength;\n",
              "            progress.value = downloaded;\n",
              "          }\n",
              "        }\n",
              "      }\n",
              "      const blob = new Blob(buffers, {type: 'application/binary'});\n",
              "      const a = document.createElement('a');\n",
              "      a.href = window.URL.createObjectURL(blob);\n",
              "      a.download = filename;\n",
              "      div.appendChild(a);\n",
              "      a.click();\n",
              "      div.remove();\n",
              "    }\n",
              "  "
            ]
          },
          "metadata": {}
        },
        {
          "output_type": "display_data",
          "data": {
            "text/plain": [
              "<IPython.core.display.Javascript object>"
            ],
            "application/javascript": [
              "download(\"download_5183946e-0bcc-44f1-9ba9-f11733ba099f\", \"mygeneratedvideo.avi\", 30667734)"
            ]
          },
          "metadata": {}
        }
      ]
    },
    {
      "cell_type": "code",
      "source": [
        "#Classification of an image testimony code\n",
        "\n",
        "import cv2\n",
        "import os\n",
        "from skimage.metrics import structural_similarity as ssim\n",
        "\n",
        "def classify_image(image_path, video_path, threshold=0.7):\n",
        "    # Load input image\n",
        "    input_img = cv2.imread(image_path)\n",
        "    input_img = cv2.cvtColor(input_img, cv2.COLOR_BGR2RGB)\n",
        "\n",
        "    # Open video\n",
        "    cap = cv2.VideoCapture(video_path)\n",
        "    frame_count = int(cap.get(cv2.CAP_PROP_FRAME_COUNT))\n",
        "    print(\"Total frames in video:\", frame_count)\n",
        "\n",
        "    best_score = -1  # highest SSIM\n",
        "    frame_index = -1\n",
        "\n",
        "    for i in range(frame_count):\n",
        "        ret, frame = cap.read()\n",
        "        if not ret:\n",
        "            break\n",
        "        frame_rgb = cv2.cvtColor(frame, cv2.COLOR_BGR2RGB)\n",
        "\n",
        "        # Resize input to match frame\n",
        "        resized_input = cv2.resize(input_img, (frame_rgb.shape[1], frame_rgb.shape[0]))\n",
        "\n",
        "        # Compute SSIM similarity\n",
        "        score, _ = ssim(resized_input, frame_rgb, channel_axis=2, full=True)\n",
        "\n",
        "        if score > best_score:\n",
        "            best_score = score\n",
        "            frame_index = i\n",
        "\n",
        "    cap.release()\n",
        "\n",
        "    print(f\"Best SSIM Score: {best_score:.3f} at frame {frame_index}\")\n",
        "\n",
        "    # Classification decision\n",
        "    if best_score >= threshold:\n",
        "        return \"✅ The image belongs to the video\"\n",
        "    else:\n",
        "        return \"❌ The image does NOT belong to the video\"\n",
        "\n",
        "# Example usage\n",
        "image_path = \"/content/sample_data/image1.jpg\"   # your test image\n",
        "video_path = \"mygeneratedvideo.avi\"\n",
        "\n",
        "result = classify_image(image_path,video_path,threshold=0.7)\n",
        "result"
      ],
      "metadata": {
        "colab": {
          "base_uri": "https://localhost:8080/",
          "height": 315
        },
        "id": "PgBE5tXMa430",
        "outputId": "212e052b-f0a5-4f9a-f4e7-ad97f54a0892"
      },
      "execution_count": null,
      "outputs": [
        {
          "output_type": "error",
          "ename": "error",
          "evalue": "OpenCV(4.12.0) /io/opencv/modules/imgproc/src/color.cpp:199: error: (-215:Assertion failed) !_src.empty() in function 'cvtColor'\n",
          "traceback": [
            "\u001b[0;31m---------------------------------------------------------------------------\u001b[0m",
            "\u001b[0;31merror\u001b[0m                                     Traceback (most recent call last)",
            "\u001b[0;32m/tmp/ipython-input-3725768213.py\u001b[0m in \u001b[0;36m<cell line: 0>\u001b[0;34m()\u001b[0m\n\u001b[1;32m     48\u001b[0m \u001b[0mvideo_path\u001b[0m \u001b[0;34m=\u001b[0m \u001b[0;34m\"mygeneratedvideo.avi\"\u001b[0m\u001b[0;34m\u001b[0m\u001b[0;34m\u001b[0m\u001b[0m\n\u001b[1;32m     49\u001b[0m \u001b[0;34m\u001b[0m\u001b[0m\n\u001b[0;32m---> 50\u001b[0;31m \u001b[0mresult\u001b[0m \u001b[0;34m=\u001b[0m \u001b[0mclassify_image\u001b[0m\u001b[0;34m(\u001b[0m\u001b[0mimage_path\u001b[0m\u001b[0;34m,\u001b[0m\u001b[0mvideo_path\u001b[0m\u001b[0;34m,\u001b[0m\u001b[0mthreshold\u001b[0m\u001b[0;34m=\u001b[0m\u001b[0;36m0.7\u001b[0m\u001b[0;34m)\u001b[0m\u001b[0;34m\u001b[0m\u001b[0;34m\u001b[0m\u001b[0m\n\u001b[0m\u001b[1;32m     51\u001b[0m \u001b[0mresult\u001b[0m\u001b[0;34m\u001b[0m\u001b[0;34m\u001b[0m\u001b[0m\n",
            "\u001b[0;32m/tmp/ipython-input-3725768213.py\u001b[0m in \u001b[0;36mclassify_image\u001b[0;34m(image_path, video_path, threshold)\u001b[0m\n\u001b[1;32m      8\u001b[0m     \u001b[0;31m# Load input image\u001b[0m\u001b[0;34m\u001b[0m\u001b[0;34m\u001b[0m\u001b[0m\n\u001b[1;32m      9\u001b[0m     \u001b[0minput_img\u001b[0m \u001b[0;34m=\u001b[0m \u001b[0mcv2\u001b[0m\u001b[0;34m.\u001b[0m\u001b[0mimread\u001b[0m\u001b[0;34m(\u001b[0m\u001b[0mimage_path\u001b[0m\u001b[0;34m)\u001b[0m\u001b[0;34m\u001b[0m\u001b[0;34m\u001b[0m\u001b[0m\n\u001b[0;32m---> 10\u001b[0;31m     \u001b[0minput_img\u001b[0m \u001b[0;34m=\u001b[0m \u001b[0mcv2\u001b[0m\u001b[0;34m.\u001b[0m\u001b[0mcvtColor\u001b[0m\u001b[0;34m(\u001b[0m\u001b[0minput_img\u001b[0m\u001b[0;34m,\u001b[0m \u001b[0mcv2\u001b[0m\u001b[0;34m.\u001b[0m\u001b[0mCOLOR_BGR2RGB\u001b[0m\u001b[0;34m)\u001b[0m\u001b[0;34m\u001b[0m\u001b[0;34m\u001b[0m\u001b[0m\n\u001b[0m\u001b[1;32m     11\u001b[0m \u001b[0;34m\u001b[0m\u001b[0m\n\u001b[1;32m     12\u001b[0m     \u001b[0;31m# Open video\u001b[0m\u001b[0;34m\u001b[0m\u001b[0;34m\u001b[0m\u001b[0m\n",
            "\u001b[0;31merror\u001b[0m: OpenCV(4.12.0) /io/opencv/modules/imgproc/src/color.cpp:199: error: (-215:Assertion failed) !_src.empty() in function 'cvtColor'\n"
          ]
        }
      ]
    },
    {
      "cell_type": "code",
      "source": [
        "\n"
      ],
      "metadata": {
        "id": "YtVZHqGHeExX"
      },
      "execution_count": null,
      "outputs": []
    }
  ]
}